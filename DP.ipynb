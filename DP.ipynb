{
  "cells": [
    {
      "cell_type": "markdown",
      "metadata": {
        "id": "5nUO2x-VBHy2"
      },
      "source": [
        "# Question 1&2"
      ]
    },
    {
      "cell_type": "markdown",
      "metadata": {
        "id": "r_N0lrDk_Fuo"
      },
      "source": [
        "# Question 1 : Exhaustive Search"
      ]
    },
    {
      "cell_type": "markdown",
      "metadata": {
        "id": "szHEj_5YBWIg"
      },
      "source": [
        "To solve the subset sum problem using **exhaustive search**, we need to explore all possible subsets of the given set and check which subset(s) sum up to the given target value t.\n",
        "\n",
        "**Problem Summary :**\n",
        "\n",
        "Given a set of positive integers S = {x₁, x₂, ..., xₙ} and a target sum t, we want to find a subset of S whose elements sum exactly to t."
      ]
    },
    {
      "cell_type": "markdown",
      "metadata": {
        "id": "ijTpBmNgCt2l"
      },
      "source": [
        "**Explanation**\n",
        "\n",
        "The exhaustive search strategy works by considering every combination of elements in the set — which is equivalent to going through all 2ⁿ possible subsets. At each step, we decide whether to include the current element in our subset or not. This can be represented as a binary tree where each level corresponds to one element in the set.\n",
        "\n",
        "The iterative pseudo-code provided in the image can be translated into a recursive algorithm. At each step of the recursion, we have two choices:\n",
        "\n",
        "Include the current element in the subset.\n",
        "\n",
        "Exclude the current element and move to the next.\n",
        "\n",
        "We stop the recursion if:\n",
        "\n",
        "The sum becomes equal to t (solution found).\n",
        "\n",
        "All elements have been considered (base case of recursion)"
      ]
    },
    {
      "cell_type": "markdown",
      "metadata": {
        "id": "62GRsFVhC1UU"
      },
      "source": [
        "**Pseudo Code**\n",
        "\n",
        "To find a subset of a given set S such that the sum of its elements equals a target value t using recursive exhaustive search.\n",
        "\n",
        "**Recursive Strategy :**\n",
        "\n",
        "At each step:\n",
        "\n",
        "Either include the current element in the subset, or\n",
        "\n",
        "Exclude it and continue the search."
      ]
    },
    {
      "cell_type": "code",
      "execution_count": null,
      "metadata": {
        "id": "HuqF6fD-DJkW"
      },
      "outputs": [],
      "source": [
        "function EXHAUSTIVE_SUBSET_SUM(S, t, index, current_subset):\n",
        "    if sum(current_subset) == t:\n",
        "        return current_subset\n",
        "\n",
        "    if index == length(S):\n",
        "        return NULL\n",
        "\n",
        "    // Case 1: Include S[index]\n",
        "    result = EXHAUSTIVE_SUBSET_SUM(S, t, index + 1, current_subset + [S[index]])\n",
        "    if result ≠ NULL:\n",
        "        return result\n",
        "\n",
        "    // Case 2: Exclude S[index]\n",
        "    return EXHAUSTIVE_SUBSET_SUM(S, t, index + 1, current_subset)\n"
      ]
    },
    {
      "cell_type": "markdown",
      "metadata": {
        "id": "jwVJKmYnDNaM"
      },
      "source": [
        "**Time Complexity**\n",
        "\n",
        "The time complexity of this exhaustive approach is O(2ⁿ), where n is the size of the input set S, because it evaluates all possible subsets.\n",
        "\n",
        "This method guarantees finding a correct solution if one exists, but is not efficient for large inputs — dynamic programming or greedy methods are usually preferred for performance-critical applications.\n"
      ]
    },
    {
      "cell_type": "markdown",
      "metadata": {
        "id": "Do3gyNGyDV-4"
      },
      "source": []
    },
    {
      "cell_type": "markdown",
      "metadata": {
        "id": "lKPecn3IChYv"
      },
      "source": [
        "# Question 2 : Dynamic Programming"
      ]
    },
    {
      "cell_type": "markdown",
      "metadata": {
        "id": "fV2NZpzCDqOu"
      },
      "source": [
        "\n",
        "**Dynamic Programming Explanation (Bottom-Up Approach)**\n",
        "\n",
        "The iterative pseudocode using subsets is exhaustive and can be inefficient for large sets. Instead, dynamic programming offers a more efficient bottom-up approach to solve the Subset Sum Problem.\n",
        "\n",
        "The key idea is:\n",
        "\n",
        "Start by considering smaller subproblems — the target values t' = 0, 1, 2, ..., t — and iteratively build up the solution.\n",
        "\n",
        "At each step, track which sums are possible using the current subset of elements.\n",
        "\n",
        "**What sums become possible when adding xₖ₊₁?**\n",
        "\n",
        "If we already know all the possible sums that can be formed using the subset {x₁, x₂, ..., xₖ}, then adding xₖ₊₁ to the set allows us to form new sums by adding xₖ₊₁ to each of the existing possible sums.\n",
        "\n",
        "For example, if the possible sums before adding xₖ₊₁ are:"
      ]
    },
    {
      "cell_type": "code",
      "execution_count": null,
      "metadata": {
        "id": "h0bgXSF2D-wa"
      },
      "outputs": [],
      "source": [
        "P = {0, 3, 5}"
      ]
    },
    {
      "cell_type": "markdown",
      "metadata": {
        "id": "rT5vLI2YEBj2"
      },
      "source": [
        "And xₖ₊₁ = 4, then new sums that become possible are:"
      ]
    },
    {
      "cell_type": "code",
      "execution_count": null,
      "metadata": {
        "id": "ddGuUd-NEEgU"
      },
      "outputs": [],
      "source": [
        "P ∪ {0 + 4, 3 + 4, 5 + 4} = {0, 3, 5, 4, 7, 9}"
      ]
    },
    {
      "cell_type": "markdown",
      "metadata": {
        "id": "bFGOYo2REGxJ"
      },
      "source": [
        "#  Bottom-Up DP Approach to Solve SSP\n",
        "\n",
        "**Algorithm**"
      ]
    },
    {
      "cell_type": "code",
      "execution_count": null,
      "metadata": {
        "id": "967K5VxSELYR"
      },
      "outputs": [],
      "source": [
        "1. Initialize dp[0] = True, all others dp[i] = False\n",
        "2. For each element x in the set S:\n",
        "     For i from t down to x:\n",
        "         if dp[i - x] is True:\n",
        "             dp[i] = True\n",
        "3. Return dp[t]\n"
      ]
    },
    {
      "cell_type": "markdown",
      "metadata": {
        "id": "zGIGd1XdEWCL"
      },
      "source": [
        "\n",
        "**Conclusion**\n",
        "\n",
        "This bottom-up approach avoids recalculating overlapping subproblems and significantly improves efficiency over exhaustive search. It runs in O(n * t) time and uses O(t) space, where n is the number of elements and t is the target sum."
      ]
    },
    {
      "cell_type": "markdown",
      "metadata": {
        "id": "EKguImZIEi9h"
      },
      "source": []
    },
    {
      "cell_type": "markdown",
      "metadata": {
        "id": "nxJkXkrj_IO0"
      },
      "source": [
        "# Part 1: Data Generator"
      ]
    },
    {
      "cell_type": "code",
      "execution_count": null,
      "metadata": {
        "colab": {
          "base_uri": "https://localhost:8080/"
        },
        "id": "K1PaXH25_P0x",
        "outputId": "59a1ad2b-e9ef-415b-e158-80ad053c962a"
      },
      "outputs": [
        {
          "name": "stdout",
          "output_type": "stream",
          "text": [
            "S: [32, 50, 45, 40, 93, 82, 77, 83, 91, 28]\n",
            "Target t: 428\n"
          ]
        }
      ],
      "source": [
        "from random import randint, sample\n",
        "\n",
        "def get_S_t(n, MAX_X=100):\n",
        "    S = [randint(1, MAX_X) for _ in range(n)]\n",
        "    t = sum(sample(S, randint(1, n)))\n",
        "    return S, t\n",
        "\n",
        "S, t = get_S_t(10)\n",
        "print(\"S:\", S)\n",
        "print(\"Target t:\", t)"
      ]
    },
    {
      "cell_type": "markdown",
      "metadata": {
        "id": "MhDcj3Kr_SmU"
      },
      "source": [
        "# Part 2: Recursive Exhaustive Search (Brute Force)"
      ]
    },
    {
      "cell_type": "code",
      "execution_count": null,
      "metadata": {
        "id": "qE9qKTVD_SyD"
      },
      "outputs": [],
      "source": [
        "def subset_sum_recursive(S, t):\n",
        "    def dfs(i, target):\n",
        "        if target == 0:\n",
        "            return True\n",
        "        if i < 0:\n",
        "            return False\n",
        "        if S[i] > target:\n",
        "            return dfs(i - 1, target)\n",
        "        return dfs(i - 1, target) or dfs(i - 1, target - S[i])\n",
        "\n",
        "    return dfs(len(S) - 1, t)"
      ]
    },
    {
      "cell_type": "markdown",
      "metadata": {
        "id": "M5gyD5EA_goy"
      },
      "source": [
        "# Test Recursive Approach: 5 Random Examples"
      ]
    },
    {
      "cell_type": "code",
      "execution_count": 3,
      "metadata": {
        "colab": {
          "base_uri": "https://localhost:8080/"
        },
        "id": "PxLsmT7E_gzw",
        "outputId": "152fad58-3ef6-4210-bc27-024dd320e022"
      },
      "outputs": [
        {
          "name": "stdout",
          "output_type": "stream",
          "text": [
            "\n",
            " Testing Recursive Brute Force Approach\n",
            "\n",
            "Test Case 1\n",
            "S: [39, 9, 16, 18, 2, 62, 77, 78, 3, 7]\n",
            "Target: 78\n",
            "Result: True\n",
            "\n",
            "Test Case 2\n",
            "S: [37, 33, 98, 30, 74, 83, 71, 60, 16, 10]\n",
            "Target: 357\n",
            "Result: True\n",
            "\n",
            "Test Case 3\n",
            "S: [10, 94, 63, 75, 75, 68, 80, 48, 91, 77]\n",
            "Target: 412\n",
            "Result: True\n",
            "\n",
            "Test Case 4\n",
            "S: [50, 70, 81, 29, 22, 70, 12, 31, 98, 51]\n",
            "Target: 179\n",
            "Result: True\n",
            "\n",
            "Test Case 5\n",
            "S: [6, 92, 88, 38, 95, 98, 69, 46, 81, 38]\n",
            "Target: 237\n",
            "Result: True\n"
          ]
        }
      ],
      "source": [
        "print(\"\\n Testing Recursive Brute Force Approach\")\n",
        "\n",
        "for test_case in range(1, 6):\n",
        "    S, t = get_S_t(10)\n",
        "    result = subset_sum_recursive(S, t)\n",
        "    print(f\"\\nTest Case {test_case}\")\n",
        "    print(\"S:\", S)\n",
        "    print(\"Target:\", t)\n",
        "    print(\"Result:\", result)\n"
      ]
    },
    {
      "cell_type": "markdown",
      "metadata": {
        "id": "MLMKTYgV_pLz"
      },
      "source": [
        "# Part 3: Memoization (Top-down Dynamic Programming)"
      ]
    },
    {
      "cell_type": "code",
      "execution_count": null,
      "metadata": {
        "id": "LgGyrWgg_pbs"
      },
      "outputs": [],
      "source": [
        "def subset_sum_memo(S, t):\n",
        "\n",
        "    memo = {}\n",
        "\n",
        "    def dp(i, target):\n",
        "        if target == 0:\n",
        "            return True\n",
        "        if i == 0:\n",
        "            return S[0] == target\n",
        "        if (i, target) in memo:\n",
        "            return memo[(i, target)]\n",
        "\n",
        "     \n",
        "        not_take = dp(i - 1, target)\n",
        "\n",
        "       \n",
        "        take = False\n",
        "        if S[i] <= target:\n",
        "            take = dp(i - 1, target - S[i])\n",
        "\n",
        "        memo[(i, target)] = take or not_take\n",
        "        return memo[(i, target)]\n",
        "\n",
        "    return dp(len(S) - 1, t)"
      ]
    },
    {
      "cell_type": "markdown",
      "metadata": {
        "id": "NYYuvdYa_wSJ"
      },
      "source": [
        "# Test Memoization Approach with 5 Examples"
      ]
    },
    {
      "cell_type": "code",
      "execution_count": null,
      "metadata": {
        "colab": {
          "base_uri": "https://localhost:8080/"
        },
        "id": "9sg7fw3A_wiw",
        "outputId": "8c753a36-a255-44ce-bcca-30d1b6273464"
      },
      "outputs": [
        {
          "name": "stdout",
          "output_type": "stream",
          "text": [
            "\n",
            "Testing Memoization (Top-down DP) Approach\n",
            "\n",
            "Test Case 1\n",
            "S: [17, 44, 35, 87, 11, 41, 45, 94, 59, 87]\n",
            "Target: 520\n",
            "Result: True\n",
            "\n",
            "Test Case 2\n",
            "S: [13, 32, 54, 76, 19, 78, 69, 97, 68, 59]\n",
            "Target: 552\n",
            "Result: True\n",
            "\n",
            "Test Case 3\n",
            "S: [31, 83, 85, 98, 10, 62, 71, 80, 64, 23]\n",
            "Target: 344\n",
            "Result: True\n",
            "\n",
            "Test Case 4\n",
            "S: [42, 65, 96, 54, 17, 20, 18, 20, 40, 9]\n",
            "Target: 195\n",
            "Result: True\n",
            "\n",
            "Test Case 5\n",
            "S: [91, 20, 45, 57, 46, 15, 30, 1, 70, 54]\n",
            "Target: 135\n",
            "Result: True\n"
          ]
        }
      ],
      "source": [
        "print(\"\\nTop Down Approach\")\n",
        "\n",
        "for test_case in range(1, 6):\n",
        "    S, t = get_S_t(10)\n",
        "    result = subset_sum_memo(S, t)\n",
        "    print(f\"\\nTest Case {test_case}\")\n",
        "    print(\"S:\", S)\n",
        "    print(\"Target:\", t)\n",
        "    print(\"Result:\", result)"
      ]
    },
    {
      "cell_type": "markdown",
      "metadata": {
        "id": "R7aOashL_3Qh"
      },
      "source": [
        "# Part 4: Bottom-up Approach\n"
      ]
    },
    {
      "cell_type": "code",
      "execution_count": null,
      "metadata": {
        "id": "nGeaRF25_3eG"
      },
      "outputs": [],
      "source": [
        "def subset_sum_bottom_up(S, t):\n",
        "    n = len(S)\n",
        "\n",
        "    dp = [[False] * (t + 1) for _ in range(n)]\n",
        "\n",
        "    for i in range(n):\n",
        "        dp[i][0] = True\n",
        "\n",
        "    if S[0] <= t:\n",
        "        dp[0][S[0]] = True\n",
        "\n",
        "    for i in range(1, n):\n",
        "        for target in range(1, t + 1):\n",
        "            not_take = dp[i - 1][target]\n",
        "            take = False\n",
        "            if S[i] <= target:\n",
        "                take = dp[i - 1][target - S[i]]\n",
        "            dp[i][target] = take or not_take\n",
        "\n",
        "    return dp[n - 1][t]"
      ]
    },
    {
      "cell_type": "markdown",
      "metadata": {
        "id": "XK2xFo6-_-TJ"
      },
      "source": [
        "# Test Bottom-up Approach"
      ]
    },
    {
      "cell_type": "code",
      "execution_count": null,
      "metadata": {
        "colab": {
          "base_uri": "https://localhost:8080/"
        },
        "id": "YXOOsbhA_-f-",
        "outputId": "0076b9b2-62fc-4d39-96f3-989ac18fcf6b"
      },
      "outputs": [
        {
          "name": "stdout",
          "output_type": "stream",
          "text": [
            "\n",
            "Testing Bottom-up Dynamic Programming Approach\n",
            "\n",
            "Test Case 1\n",
            "S: [77, 66, 11, 44, 2, 66, 99, 45, 38, 21]\n",
            "Target: 100\n",
            "Result: True\n",
            "\n",
            "Test Case 2\n",
            "S: [60, 88, 52, 39, 49, 89, 64, 93, 72, 91]\n",
            "Target: 697\n",
            "Result: True\n",
            "\n",
            "Test Case 3\n",
            "S: [32, 34, 96, 77, 15, 2, 86, 46, 17, 45]\n",
            "Target: 244\n",
            "Result: True\n",
            "\n",
            "Test Case 4\n",
            "S: [20, 95, 33, 44, 31, 78, 58, 36, 43, 41]\n",
            "Target: 273\n",
            "Result: True\n",
            "\n",
            "Test Case 5\n",
            "S: [29, 82, 83, 22, 31, 100, 12, 74, 31, 99]\n",
            "Target: 510\n",
            "Result: True\n"
          ]
        }
      ],
      "source": [
        "print(\"\\nTesting Bottom-up Approach\")\n",
        "\n",
        "for test_case in range(1, 6):\n",
        "    S, t = get_S_t(10)\n",
        "    result = subset_sum_bottom_up(S, t)\n",
        "    print(f\"\\nTest Case {test_case}\")\n",
        "    print(\"S:\", S)\n",
        "    print(\"Target:\", t)\n",
        "    print(\"Result:\", result)"
      ]
    },
    {
      "cell_type": "markdown",
      "metadata": {
        "id": "LirgA234ALQe"
      },
      "source": [
        "# Visualizations"
      ]
    },
    {
      "cell_type": "markdown",
      "metadata": {
        "id": "UVcQZilcAR_z"
      },
      "source": [
        "# Plot 1: Time Complexity Comparison "
      ]
    },
    {
      "cell_type": "code",
      "execution_count": null,
      "metadata": {
        "colab": {
          "base_uri": "https://localhost:8080/",
          "height": 564
        },
        "id": "InJyqzHwAMc4",
        "outputId": "9cb9fdb6-e840-45dc-b3f5-4c080a9af7e0"
      },
      "outputs": [
        {
          "data": {
            "image/png": "[encoded data removed]",
            "text/plain": [
              "<Figure size 1000x600 with 1 Axes>"
            ]
          },
          "metadata": {},
          "output_type": "display_data"
        }
      ],
      "source": [
        "import time\n",
        "import matplotlib.pyplot as plt\n",
        "\n",
        "sizes = list(range(5, 21))\n",
        "recursive_times = []\n",
        "memo_times = []\n",
        "bottom_up_times = []\n",
        "\n",
        "for n in sizes:\n",
        "    S, t = get_S_t(n)\n",
        "\n",
        "    start = time.time()\n",
        "    subset_sum_recursive(S, t)\n",
        "    recursive_times.append(time.time() - start)\n",
        "\n",
        "    start = time.time()\n",
        "    subset_sum_memo(S, t)\n",
        "    memo_times.append(time.time() - start)\n",
        "\n",
        "    start = time.time()\n",
        "    subset_sum_bottom_up(S, t)\n",
        "    bottom_up_times.append(time.time() - start)\n",
        "\n",
        "plt.figure(figsize=(10, 6))\n",
        "plt.plot(sizes, recursive_times, label='Recursive', marker='o')\n",
        "plt.plot(sizes, memo_times, label='Memoization', marker='s')\n",
        "plt.plot(sizes, bottom_up_times, label='Bottom-up DP', marker='^')\n",
        "plt.xlabel('Input size (n)')\n",
        "plt.ylabel('Execution Time (seconds)')\n",
        "plt.title('Execution Time vs Input Size')\n",
        "plt.legend()\n",
        "plt.grid(True)\n",
        "plt.show()"
      ]
    },
    {
      "cell_type": "markdown",
      "metadata": {
        "id": "G2JStjk2ALT6"
      },
      "source": [
        "# Plot 2: Subset Sum Possibility Heatmap (for fixed S)"
      ]
    },
    {
      "cell_type": "code",
      "execution_count": 9,
      "metadata": {
        "colab": {
          "base_uri": "https://localhost:8080/",
          "height": 260
        },
        "id": "YQRf1-rYAc29",
        "outputId": "974f2d0e-210e-4c67-a90a-24884969648b"
      },
      "outputs": [
        {
          "data": {
            "image/png": "[encoded data removed]",
            "text/plain": [
              "<Figure size 1200x200 with 2 Axes>"
            ]
          },
          "metadata": {},
          "output_type": "display_data"
        }
      ],
      "source": [
        "import seaborn as sns\n",
        "import numpy as np\n",
        "\n",
        "S = [3, 7, 10, 12, 18]\n",
        "t_max = sum(S)\n",
        "results = [subset_sum_bottom_up(S, t) for t in range(t_max + 1)]\n",
        "\n",
        "plt.figure(figsize=(12, 2))\n",
        "sns.heatmap([results], cmap=\"YlGnBu\", cbar=True, xticklabels=range(t_max + 1))\n",
        "plt.title(\"Subset Sum Possibility (1=Yes, 0=No) for Targets from 0 to {}\".format(t_max))\n",
        "plt.xlabel(\"Target Sum (t)\")\n",
        "plt.yticks([], [])\n",
        "plt.show()"
      ]
    },
    {
      "cell_type": "markdown",
      "metadata": {
        "id": "p_J2qptcAf-Q"
      },
      "source": [
        "# Plot 3: Random Subset Distribution Histogram"
      ]
    },
    {
      "cell_type": "code",
      "execution_count": 10,
      "metadata": {
        "colab": {
          "base_uri": "https://localhost:8080/",
          "height": 487
        },
        "id": "WcEe4CO4AgSh",
        "outputId": "1b45b6c8-b124-4317-d6aa-cccc4cbfe9d6"
      },
      "outputs": [
        {
          "data": {
            "image/png": "[encoded data removed]",
            "text/plain": [
              "<Figure size 800x500 with 1 Axes>"
            ]
          },
          "metadata": {},
          "output_type": "display_data"
        }
      ],
      "source": [
        "S, _ = get_S_t(100)\n",
        "plt.figure(figsize=(8, 5))\n",
        "plt.hist(S, bins=10, edgecolor='black', color='skyblue')\n",
        "plt.title(\"Distribution of Random Subset Elements (S)\")\n",
        "plt.xlabel(\"Element Value\")\n",
        "plt.ylabel(\"Frequency\")\n",
        "plt.grid(True)\n",
        "plt.show()"
      ]
    },
    {
      "cell_type": "markdown",
      "metadata": {
        "id": "JEU7bxAoAmxO"
      },
      "source": [
        "# Plot 4: Success Rate Sum (Over 100 Trials)"
      ]
    },
    {
      "cell_type": "code",
      "execution_count": 11,
      "metadata": {
        "colab": {
          "base_uri": "https://localhost:8080/",
          "height": 545
        },
        "id": "Vqae39wRAm8x",
        "outputId": "d215222c-6801-4d3e-cc98-d0652b6b764a"
      },
      "outputs": [
        {
          "data": {
            "image/png": "[encoded data removed]",
            "text/plain": [
              "<Figure size 600x600 with 1 Axes>"
            ]
          },
          "metadata": {},
          "output_type": "display_data"
        }
      ],
      "source": [
        "success_count = 0\n",
        "trials = 100\n",
        "\n",
        "for _ in range(trials):\n",
        "    S, t = get_S_t(10)\n",
        "    if subset_sum_bottom_up(S, t):\n",
        "        success_count += 1\n",
        "\n",
        "success_rate = success_count / trials\n",
        "\n",
        "plt.figure(figsize=(6, 6))\n",
        "plt.bar([\"Success\", \"Failure\"], [success_count, trials - success_count], color=[\"green\", \"red\"])\n",
        "plt.title(\"Subset Sum Result Distribution (Bottom-up, 100 Trials)\")\n",
        "plt.ylabel(\"Count\")\n",
        "plt.grid(True, axis='y')\n",
        "plt.show()"
      ]
    },
    {
      "cell_type": "markdown",
      "metadata": {
        "id": "iuMjPjL_At2v"
      },
      "source": [
        "# Conclusion :\n",
        "Subset Sum Problem (SSP) is a simple problem that is employed to compare brute-force search with dynamic programming. Brute-force search approach systematically checks all subsets to find a sum equal to the value t. Though it works, its exponential complexity makes it infeasible for large inputs. Dynamic programming (DP) solution, however, efficiently solves SSP by building solutions of smaller subproblems step by step. It uses a bottom-up approach to maintaining viable sums to t, reducing redundant computation significantly. This shift from exponential to pseudo-polynomial time makes the DP method very scalable and usable in practical applications. In general, the DP method not only optimizes performance but also demonstrates how classical algorithm design principles can transform computational feasibility.\n",
        "\n"
      ]
    },
    {
      "cell_type": "markdown",
      "metadata": {
        "id": "07mzFRYoFEau"
      },
      "source": [
        "## List of References\n",
        "\n",
        "Cormen, T.H., Leiserson, C.E., Rivest, R.L. and Stein, C., 2009. Introduction to Algorithms. 3rd ed. MIT Press.\n",
        "\n",
        "Kleinberg, J. and Tardos, É., 2006. Algorithm Design. 1st ed. Pearson Education.\n",
        "\n",
        "Dasgupta, S., Papadimitriou, C.H. and Vazirani, U.V., 2006. Algorithms. McGraw-Hill."
      ]
    }
  ],
  "metadata": {
    "colab": {
      "provenance": []
    },
    "kernelspec": {
      "display_name": "Python 3",
      "name": "python3"
    },
    "language_info": {
      "name": "python"
    }
  },
  "nbformat": 4,
  "nbformat_minor": 0
}
