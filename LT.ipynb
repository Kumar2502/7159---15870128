{
 "cells": [
  {
   "cell_type": "markdown",
   "id": "40cee098",
   "metadata": {},
   "source": [
    "# Part 1 : Linear Programming "
   ]
  },
  {
   "cell_type": "markdown",
   "id": "1c3e2d30-e757-4fc7-bf90-2012d00f3082",
   "metadata": {},
   "source": [
    "# he Role of High-Dimensional Features in ML Models"
   ]
  },
  {
   "cell_type": "markdown",
   "id": "3fdb67cf-d2ad-4b44-bb68-cf448d71949c",
   "metadata": {},
   "source": [
    "Modern machine learning systems — especially those powering platforms at scale like Meta — often rely on models that incorporate hundreds or even thousands of input features. \n",
    "\n",
    "This high-dimensional representation can significantly enhance a model’s predictive accuracy, leading to better decision-making and measurable business gains. However, while the richness of features contributes to performance, it also introduces complexity that impacts downstream deployment."
   ]
  },
  {
   "cell_type": "markdown",
   "id": "e918af19-8a55-482e-9797-8233e679e7b6",
   "metadata": {},
   "source": [
    "# Deployment Constraints in Production Environments"
   ]
  },
  {
   "cell_type": "markdown",
   "id": "48b581cb-c56a-4970-a1fe-ba381588ca90",
   "metadata": {},
   "source": [
    "When moving from experimentation to production, ML models must adhere to strict operational constraints. These include low latency demands, limited memory availability, and regulated CPU utilization. \n",
    "\n",
    "Models with excessive input features or overly complex architectures tend to consume more computational resources. This can slow down inference, increase energy costs, and in some cases, breach service-level agreements (SLAs), directly affecting user experience and system reliability."
   ]
  },
  {
   "cell_type": "markdown",
   "id": "a6c30484-5561-4bec-9ab5-f84d318aa45d",
   "metadata": {},
   "source": [
    "# Balancing Accuracy and Efficiency"
   ]
  },
  {
   "cell_type": "markdown",
   "id": "9ce9ca15-50d1-42f7-96ab-f5666fc734d0",
   "metadata": {},
   "source": [
    "To maintain both model performance and deployability, ML engineers must carefully balance feature richness with computational efficiency. \n",
    "\n",
    "It’s not just about building accurate models — they must also be optimized for real-time, resource-constrained environments. Achieving this balance requires careful trade-offs in design and implementation."
   ]
  },
  {
   "cell_type": "markdown",
   "id": "1a57f1c8-01b0-469e-aaa1-a64f802643c7",
   "metadata": {},
   "source": [
    "# Strategies for Efficient Model Deployment"
   ]
  },
  {
   "cell_type": "markdown",
   "id": "3cf9c4c2-649f-4c80-8cca-5d829e7a8143",
   "metadata": {},
   "source": [
    "Several strategies are commonly used to simplify models without sacrificing too much performance:\n",
    "\n",
    "Feature Selection: Removing redundant or low-importance features to reduce input dimensionality.\n",
    "\n",
    "Model Pruning: Trimming unnecessary parts of neural networks to reduce size and computation.\n",
    "\n",
    "Lightweight Architectures: Using models like decision trees, linear models, or efficient neural networks (e.g., MobileNet) tailored for speed.\n",
    "\n",
    "Together, these techniques help ensure that ML models are not only accurate but also scalable and sustainable in production."
   ]
  },
  {
   "cell_type": "markdown",
   "id": "ea24d0fc-9b50-4bce-8980-569897c208a1",
   "metadata": {},
   "source": [
    "# Efficient Feature Selection: Striking the Balance Between Accuracy and Scalability"
   ]
  },
  {
   "cell_type": "markdown",
   "id": "66b487b2-dea9-4d85-befd-5eab563a8892",
   "metadata": {},
   "source": [
    "In machine learning at scale, it's critical to balance model performance with system efficiency. Few methods for constraining computation and latency are so powerful as input feature reduction.\n",
    "\n",
    "Direct techniques like dropping features simply at random or exhaustive search over all possible combinations are too risky — sacrificing potentially model accuracy in the process — or infeasible computationally for high-dimensional data.\n",
    "\n",
    "This highlights the need for a smarter, feature selection-by-objective approach. Such an approach should be capable of choosing the most relevant features while eliminating the less relevant features that contribute nothing useful to the model's predictive power.\n",
    "\n",
    "In an ideal situation, it should be respectful of inference time and resource requirements in production as well. A good feature reduction pipeline can drastically improve system performance, enhance interpretability, and simplify model maintenance on a continuous basis without compromising on prediction quality."
   ]
  },
  {
   "cell_type": "markdown",
   "id": "7f0a2eaa-e1ba-434a-befe-7983243eb8b9",
   "metadata": {},
   "source": [
    "# Leveraging Linear Programming for Scalable Feature Optimization"
   ]
  },
  {
   "cell_type": "markdown",
   "id": "991e9df1-62e0-4a52-bbbb-f5e8767f6889",
   "metadata": {},
   "source": [
    "The article presents an innovative approach by framing the feature selection problem as a Linear Programming (LP) task. This formulation enables the selection of a feature subset that maximizes model utility while adhering to strict resource constraints like latency or memory usage. \n",
    "\n",
    "Unlike brute-force or greedy strategies, which can be slow or suboptimal, LP offers a scalable and efficient method that produces optimal or near-optimal results. By translating feature importance and cost into a mathematical model, this technique ensures that deployed machine learning systems remain both accurate and production-ready"
   ]
  },
  {
   "cell_type": "markdown",
   "id": "58f72785-efcd-41e5-836e-e674f16b06f2",
   "metadata": {},
   "source": [
    "# Resource-Efficient Feature Selection for Scalable ML Deployment"
   ]
  },
  {
   "cell_type": "markdown",
   "id": "f40e89f1-7aae-448b-8dea-d8f32ac046e2",
   "metadata": {},
   "source": [
    "The LP-based feature selection strategy empowers production machine learning systems to retain high predictive performance while minimizing resource consumption. \n",
    "\n",
    "By evaluating each feature’s contribution to the model against its computational cost, this approach selects only those features that offer the best trade-off between accuracy and efficiency. \n",
    "\n",
    "This ensures that models remain lightweight and responsive — critical for large-scale deployments where even minor inefficiencies can escalate into substantial infrastructure costs.\n",
    "\n",
    "The method’s scalability and awareness of real-world constraints make it ideal for optimizing ML systems in production environments without compromising performance."
   ]
  },
  {
   "cell_type": "markdown",
   "id": "19b7e2e5",
   "metadata": {},
   "source": [
    "#  Context of the Problem\n",
    "\n",
    "In this scenario, a machine learning model is provided with a pool of candidate input features, each associated with two key attributes: a performance score and a resource cost. The performance score reflects the feature’s contribution to the model’s predictive accuracy, while the resource cost measures the computational burden it imposes, such as memory usage, latency, or CPU consumption.\n",
    "\n",
    "Since the model must operate within a strict system budget — typically defined by real-time production constraints — it is not feasible to include all available features.\n",
    "\n",
    "The challenge lies in selecting an optimal subset of features that maximizes the model’s effectiveness while ensuring the total resource cost remains within the allowed budget. \n",
    "\n",
    "This requires evaluating the trade-off between each feature's predictive value and its resource consumption. Features that provide high accuracy but at a prohibitive cost may need to be excluded in favor of more efficient alternatives.\n",
    "\n",
    "The overall objective is to maintain strong model performance without compromising system efficiency or scalability. As a result, intelligent feature selection becomes a critical optimization step in deploying machine learning models in resource-constrained environments."
   ]
  },
  {
   "cell_type": "markdown",
   "id": "88d1815f",
   "metadata": {},
   "source": [
    "## Binary Integer Linear Programming (BILP) Formulation\n",
    "\n",
    "\n",
    "## Decision Variables\n",
    "\n",
    "Let:\n",
    "\n",
    "- $x_{f,i} = 1$ if feature $i$ is selected in **uncompressed** form, else 0  \n",
    "- $x_{c,i} = 1$ if feature $i$ is selected in **compressed** form, else 0\n",
    "\n",
    "Define the decision vectors:\n",
    "\n",
    "$$\n",
    "\\mathbf{x_f} = [x_{f,1}, x_{f,2}, \\dots, x_{f,n}] \\in \\{0,1\\}^n\n",
    "$$\n",
    "\n",
    "$$\n",
    "\\mathbf{x_c} = [x_{c,1}, x_{c,2}, \\dots, x_{c,n}] \\in \\{0,1\\}^n\n",
    "$$\n"
   ]
  },
  {
   "cell_type": "markdown",
   "id": "693dbe30",
   "metadata": {},
   "source": [
    "##  Objective Function\n",
    "\n",
    "Our objective is to **maximize total model gain**:\n",
    "\n",
    "$$\n",
    "\\max_{\\mathbf{x_f}, \\mathbf{x_c}} \\sum_{i=1}^{n} \\left( g_{f,i} \\cdot x_{f,i} + g_{c,i} \\cdot x_{c,i} \\right)\n",
    "$$\n",
    "\n",
    "Where:\n",
    "- $g_{f,i}$ is the gain of feature $i$ in uncompressed form  \n",
    "- $g_{c,i}$ is the gain of feature $i$ in compressed form\n"
   ]
  },
  {
   "cell_type": "markdown",
   "id": "eebb5e71",
   "metadata": {},
   "source": [
    "##  LP Relaxation for Scalability\n",
    "\n",
    "##  Constraints\n",
    "\n",
    "###  Feature Uniqueness Constraint\n",
    "\n",
    "Each feature can only be selected in one form (uncompressed or compressed):\n",
    "\n",
    "$$\n",
    "x_{f,i} + x_{c,i} \\leq 1 \\quad \\text{for all } i\n",
    "$$\n",
    "\n",
    "Or in matrix form:\n",
    "\n",
    "$$\n",
    "\\begin{bmatrix}\n",
    "I_n & I_n\n",
    "\\end{bmatrix}\n",
    "\\begin{bmatrix}\n",
    "\\mathbf{x_f} \\\\\n",
    "\\mathbf{x_c}\n",
    "\\end{bmatrix}\n",
    "\\leq \\mathbf{1}_n\n",
    "$$\n",
    "\n",
    "\n",
    "\n",
    "###  Service A (e.g., Memory) Capacity Constraint:\n",
    "\n",
    "$$\n",
    "\\mathbf{s_{Af}}^\\top \\mathbf{x_f} + \\mathbf{s_{Ac}}^\\top \\mathbf{x_c} \\leq C_A\n",
    "$$\n",
    "\n",
    "\n",
    "\n",
    "###  Service B (e.g., CPU) Capacity Constraint:\n",
    "\n",
    "$$\n",
    "\\mathbf{s_{Bf}}^\\top \\mathbf{x_f} + \\mathbf{s_{Bc}}^\\top \\mathbf{x_c} \\leq C_B\n",
    "$$"
   ]
  },
  {
   "cell_type": "markdown",
   "id": "b6e63da4",
   "metadata": {},
   "source": [
    "##  Key Parameters\n",
    "\n",
    "| Symbol              | Meaning                                   | Shape              |\n",
    "|---------------------|--------------------------------------------|---------------------|\n",
    "| $\\mathbf{x_f}$      | Binary vector for uncompressed features    | $\\{0,1\\}^n$         |\n",
    "| $\\mathbf{x_c}$      | Binary vector for compressed features      | $\\{0,1\\}^n$         |\n",
    "| $\\mathbf{g_f}$      | Gains of uncompressed features             | $\\mathbb{R}^n$      |\n",
    "| $\\mathbf{g_c}$      | Gains of compressed features               | $\\mathbb{R}^n$      |\n",
    "| $\\mathbf{s_{Af}}$   | Service A costs for full features          | $\\mathbb{R}^n$      |\n",
    "| $\\mathbf{s_{Ac}}$   | Service A costs for compressed features    | $\\mathbb{R}^n$      |\n",
    "| $\\mathbf{s_{Bf}}$   | Service B costs for full features          | $\\mathbb{R}^n$      |\n",
    "| $\\mathbf{s_{Bc}}$   | Service B costs for compressed features    | $\\mathbb{R}^n$      |\n",
    "| $C_A, C_B$          | Total capacities of Service A and B        | Scalars             |\n"
   ]
  },
  {
   "cell_type": "markdown",
   "id": "ca8decbb",
   "metadata": {},
   "source": [
    "##  Sensitivity Analysis\n",
    "\n",
    "###  Shadow Prices\n",
    "\n",
    "The shadow price (dual value) of Service A tells us the marginal gain if we increase capacity:\n",
    "\n",
    "$$\n",
    "\\lambda_A = \\frac{\\Delta \\text{Gain}}{\\Delta C_A}\n",
    "$$\n",
    "\n",
    "If $\\lambda_A = 5$, then adding 1 more unit of capacity to Service A increases total gain by 5 units.\n",
    "\n",
    "\n",
    "\n",
    "###  Compression Trade-off\n",
    "\n",
    "Compression is worth it when the **normalized gain** exceeds the **normalized cost**.\n",
    "\n",
    "For feature $i$, compression is beneficial when:\n",
    "\n",
    "$$\n",
    "\\frac{g_{c,i}}{g_{f,i}} > \\frac{s_{Ac,i} + \\alpha s_{Bc,i}}{s_{Af,i}}\n",
    "$$\n",
    "\n",
    "Where $\\alpha$ is the relative cost trade-off between Services A and B.\n"
   ]
  },
  {
   "cell_type": "markdown",
   "id": "a2165881",
   "metadata": {},
   "source": [
    "## Extensions\n",
    "\n",
    "###  Multi-Service Generalization\n",
    "\n",
    "If we have $k$ infrastructure services, we can generalize the constraints as:\n",
    "\n",
    "$$\n",
    "\\sum_{j=1}^{k} \\mathbf{w_j}^\\top \n",
    "\\begin{bmatrix}\n",
    "\\mathbf{x_f} \\\\\n",
    "\\mathbf{x_c}\n",
    "\\end{bmatrix}\n",
    "\\leq \\mathbf{C}\n",
    "$$\n",
    "\n",
    "Where $\\mathbf{w_j}$ is the resource cost vector for service $j$, and $\\mathbf{C}$ is the vector of capacities.\n",
    "\n",
    "\n",
    "\n",
    "### Regularized Objective (Sparsity)\n",
    "\n",
    "To limit the number of selected features, we can penalize using too many by adding L1 regularization:\n",
    "\n",
    "$$\n",
    "\\max \\left( \\mathbf{g_f}^\\top \\mathbf{x_f} + \\mathbf{g_c}^\\top \\mathbf{x_c} - \\gamma \\|\\mathbf{x_f} + \\mathbf{x_c}\\|_1 \\right)\n",
    "$$\n",
    "\n",
    "Where $\\gamma$ controls the trade-off between model gain and simplicity.\n"
   ]
  },
  {
   "cell_type": "markdown",
   "id": "832a1202",
   "metadata": {},
   "source": []
  },
  {
   "cell_type": "code",
   "execution_count": null,
   "id": "80e24a53-8d57-482c-ba3a-a51b8df142bb",
   "metadata": {},
   "outputs": [],
   "source": []
  },
  {
   "cell_type": "markdown",
   "id": "f37a2925",
   "metadata": {},
   "source": [
    "# 2 Farmer's Optimization Problem\n",
    "\n",
    "A farmer has 500 acres of land to allocate among **wheat**, **corn**, and **sugar beets**.  \n",
    "The goal is to **maximize profit**, considering:\n",
    "\n",
    "- **Yield per acre**\n",
    "- **Planting costs**\n",
    "- **Selling prices (with price thresholds for sugar beets)**\n",
    "- **Minimum feed demand**\n",
    "- **Backup purchase costs**\n",
    "\n",
    "We define decision variables for how many acres to plant, how much to sell, and how much to purchase for feed.\n"
   ]
  },
  {
   "cell_type": "markdown",
   "id": "db2033de",
   "metadata": {},
   "source": [
    "##  Decision Variables\n",
    "\n",
    "Let the following variables represent the farmer’s decisions:\n",
    "\n",
    "- $x_1$: Acres used for **wheat**\n",
    "- $x_2$: Acres used for **corn**\n",
    "- $x_3$: Acres used for **sugar beets**\n",
    "\n",
    "- $p_1$: Tons of **wheat sold**\n",
    "- $p_2$: Tons of **corn sold**\n",
    "- $p_3$: Tons of sugar beets sold at **£36** (first 6000 T)\n",
    "- $p_4$: Tons of sugar beets sold at **£10** (beyond 6000 T)\n",
    "\n",
    "- $y_1$: Tons of **wheat purchased** to meet feed demand\n",
    "- $y_2$: Tons of **corn purchased** to meet feed demand\n"
   ]
  },
  {
   "cell_type": "markdown",
   "id": "fc5c9e18",
   "metadata": {},
   "source": [
    "## Objective Function: Maximize Profit\n",
    "\n",
    "Profit = Revenue – Planting Cost – Feed Purchase Cost\n",
    "\n",
    "### Revenue:\n",
    "- £170 × $p_1$ (wheat sold)\n",
    "- £150 × $p_2$ (corn sold)\n",
    "- £36 × $p_3$ (sugar beets sold ≤ 6000 T)\n",
    "- £10 × $p_4$ (sugar beets sold > 6000 T)\n",
    "\n",
    "### Planting Cost:\n",
    "- £150 × $x_1$\n",
    "- £230 × $x_2$\n",
    "- £260 × $x_3$\n",
    "\n",
    "### Backup (Feed Purchase) Cost:\n",
    "- £238 × $y_1$ (wheat purchased)\n",
    "- £210 × $y_2$ (corn purchased)\n",
    "\n",
    "Thus, the profit function becomes:\n",
    "\n",
    "$$\n",
    "\\text{Maximize: } \n",
    "170p_1 + 150p_2 + 36p_3 + 10p_4 - 150x_1 - 230x_2 - 260x_3 - 238y_1 - 210y_2\n",
    "$$\n"
   ]
  },
  {
   "cell_type": "markdown",
   "id": "a84e4f68",
   "metadata": {},
   "source": [
    "##  Constraints\n",
    "\n",
    "###  Land Availability\n",
    "Total land used cannot exceed 500 acres:\n",
    "\n",
    "$$\n",
    "x_1 + x_2 + x_3 \\leq 500\n",
    "$$\n",
    "\n",
    "\n",
    "\n",
    "###  Yield Relationships\n",
    "\n",
    "Yields are:\n",
    "- Wheat: 2.5 T/acre\n",
    "- Corn: 3.0 T/acre\n",
    "- Sugar beets: 20 T/acre\n",
    "\n",
    "So, total crop output:\n",
    "\n",
    "- Wheat: $2.5x_1 = p_1 + y_1$\n",
    "- Corn: $3x_2 = p_2 + y_2$\n",
    "- Sugar beets: $20x_3 = p_3 + p_4$ (since all beets are sold)\n",
    "\n",
    "\n",
    "\n",
    "###  Feed Demand (minimum required for livestock):\n",
    "\n",
    "- Wheat: $p_1 + y_1 \\geq 200$\n",
    "- Corn: $p_2 + y_2 \\geq 240$\n",
    "\n",
    "\n",
    "\n",
    "###  Sugar Beet Selling Limits:\n",
    "\n",
    "- $p_3 \\leq 6000$ (limited to 6000 T at £36)\n",
    "- $p_4 \\geq 0$ (extra can be sold at £10)\n",
    "\n",
    "\n",
    "\n",
    "###  Non-negativity:\n",
    "All decision variables must be ≥ 0:\n",
    "\n",
    "$$\n",
    "x_1, x_2, x_3, p_1, p_2, p_3, p_4, y_1, y_2 \\geq 0\n",
    "$$\n"
   ]
  },
  {
   "cell_type": "markdown",
   "id": "74cc6d41",
   "metadata": {},
   "source": [
    "##  Summary of Data\n",
    "\n",
    "| Parameter              | Wheat | Corn | Sugar Beets |\n",
    "|------------------------|-------|------|--------------|\n",
    "| Yield (T/acre)         | 2.5   | 3    | 20           |\n",
    "| Feed demand (T)        | 200   | 240  | –            |\n",
    "| Planting cost (£/acre) | 150   | 230  | 260          |\n",
    "| Selling price (£/T)    | 170   | 150  | £36 ≤ 6000 T |\n",
    "| Backup price (£/T)     | 238   | 210  | –            |\n"
   ]
  },
  {
   "cell_type": "code",
   "execution_count": null,
   "id": "e1e399d4-12de-4aa6-976a-d36c062acf59",
   "metadata": {},
   "outputs": [],
   "source": []
  },
  {
   "cell_type": "markdown",
   "id": "b8725433-7cec-4f92-a82f-455a353b45d3",
   "metadata": {},
   "source": [
    "# Solution Using Pulp "
   ]
  },
  {
   "cell_type": "markdown",
   "id": "fb6087cc-44c2-4b7e-8b96-42e8e36830b6",
   "metadata": {},
   "source": [
    "# PART 1: Import Libraries and Set Up the Model"
   ]
  },
  {
   "cell_type": "code",
   "execution_count": 11,
   "id": "c5b92ecd-5db4-4660-ab1c-c44b1c3dcdbc",
   "metadata": {},
   "outputs": [],
   "source": [
    "from pulp import LpProblem, LpMaximize, LpVariable, value\n",
    "import matplotlib.pyplot as plt\n",
    "import warnings\n",
    "\n",
    "# Suppress any warning messages for cleaner output\n",
    "warnings.filterwarnings(\"ignore\")\n",
    "\n",
    "# Initialize the linear programming model to maximize profit\n",
    "model = LpProblem(\"Farmer_Crop_Allocation\", LpMaximize)"
   ]
  },
  {
   "cell_type": "markdown",
   "id": "63f053db-a20b-4c3c-92c7-40bbff0a4a83",
   "metadata": {},
   "source": [
    "# PART 2: Define Decision Variables"
   ]
  },
  {
   "cell_type": "code",
   "execution_count": 12,
   "id": "4facd716-e0b9-4081-9e86-75b585accfc4",
   "metadata": {},
   "outputs": [],
   "source": [
    "# Acres of land to allocate (non-negative continuous variables)\n",
    "wheat_acres = LpVariable(\"Wheat_Acres\", lowBound=0)\n",
    "corn_acres = LpVariable(\"Corn_Acres\", lowBound=0)\n",
    "beet_acres = LpVariable(\"Beet_Acres\", lowBound=0)\n",
    "\n",
    "# Crop sales (tons)\n",
    "wheat_sold = LpVariable(\"Wheat_Sold\", lowBound=0)\n",
    "corn_sold = LpVariable(\"Corn_Sold\", lowBound=0)\n",
    "beets_sold_36 = LpVariable(\"Beets_Sold_36\", lowBound=0, upBound=6000)  # capped at 6000T\n",
    "beets_sold_10 = LpVariable(\"Beets_Sold_10\", lowBound=0)                # surplus sold at £10\n",
    "\n",
    "# Backup feed purchases\n",
    "wheat_purchased = LpVariable(\"Wheat_Purchased\", lowBound=0)\n",
    "corn_purchased = LpVariable(\"Corn_Purchased\", lowBound=0)"
   ]
  },
  {
   "cell_type": "markdown",
   "id": "61b99767-bc75-41ab-ab22-b81a02f0d3fe",
   "metadata": {},
   "source": [
    "# PART 3: Add Constraints to the Mode"
   ]
  },
  {
   "cell_type": "code",
   "execution_count": 13,
   "id": "27d7845f-5984-463b-8fcd-02dc43797c04",
   "metadata": {},
   "outputs": [],
   "source": [
    "# Total land cannot exceed 500 acres\n",
    "model += wheat_acres + corn_acres + beet_acres <= 500, \"Total_Land_Limit\"\n",
    "\n",
    "# Yield balances (production = sales + purchase)\n",
    "model += 2.5 * wheat_acres == wheat_sold + wheat_purchased, \"Wheat_Yield_Balance\"\n",
    "model += 3.0 * corn_acres == corn_sold + corn_purchased, \"Corn_Yield_Balance\"\n",
    "model += 20.0 * beet_acres == beets_sold_36 + beets_sold_10, \"Beets_Yield_Balance\"\n",
    "\n",
    "# Minimum demand constraints for feed use\n",
    "model += wheat_sold + wheat_purchased >= 200, \"Wheat_Demand\"\n",
    "model += corn_sold + corn_purchased >= 240, \"Corn_Demand\""
   ]
  },
  {
   "cell_type": "markdown",
   "id": "0ea9d4b8-da9d-4c4d-b48c-3fdb4230d791",
   "metadata": {},
   "source": [
    "# PART 4: Define the Objective Function (Maximize Profit)"
   ]
  },
  {
   "cell_type": "code",
   "execution_count": 14,
   "id": "cc2682bb-d5b5-42d8-b377-7c411ed06e41",
   "metadata": {},
   "outputs": [],
   "source": [
    "# Revenue from crop sales\n",
    "sales_revenue = (\n",
    "    170 * wheat_sold +\n",
    "    150 * corn_sold +\n",
    "    36 * beets_sold_36 +\n",
    "    10 * beets_sold_10\n",
    ")\n",
    "\n",
    "# Cost of planting crops\n",
    "planting_cost = (\n",
    "    150 * wheat_acres +\n",
    "    230 * corn_acres +\n",
    "    260 * beet_acres\n",
    ")\n",
    "\n",
    "# Cost of purchasing backup feed\n",
    "purchase_cost = (\n",
    "    238 * wheat_purchased +\n",
    "    210 * corn_purchased\n",
    ")\n",
    "\n",
    "# Objective: maximize profit = sales revenue - planting cost - backup purchase cost\n",
    "model += sales_revenue - planting_cost - purchase_cost, \"Total_Profit\""
   ]
  },
  {
   "cell_type": "markdown",
   "id": "789fa99d-c86c-4e49-8979-ebc0d076b6fb",
   "metadata": {},
   "source": [
    "# PART 5: Solve the Model and Display Results"
   ]
  },
  {
   "cell_type": "code",
   "execution_count": 16,
   "id": "49a8577f-1ba0-4e59-a9d5-6c5bf73c62fc",
   "metadata": {},
   "outputs": [
    {
     "name": "stdout",
     "output_type": "stream",
     "text": [
      "Status: 1, Problem Name: Farmer_Crop_Allocation\n",
      "\n",
      "--- Land Allocation (Acres) ---\n",
      "Wheat: 120.00\n",
      "Corn : 80.00\n",
      "Beets: 300.00\n",
      "\n",
      "--- Crop Sales (Tons) ---\n",
      "Wheat sold         : 300.00\n",
      "Corn sold          : 240.00\n",
      "Beets sold at £36  : 6000.00\n",
      "Beets sold at £10  : 0.00\n",
      "\n",
      "--- Feed Purchased (Tons) ---\n",
      "Wheat purchased    : 0.00\n",
      "Corn purchased     : 0.00\n",
      "\n",
      ">>> Total Profit: £188,600.00\n"
     ]
    }
   ],
   "source": [
    "# Solve the optimization problem\n",
    "model.solve()\n",
    "\n",
    "# Display the solution status and problem name\n",
    "print(f\"Status: {model.status}, Problem Name: {model.name}\")\n",
    "\n",
    "# Display allocated land\n",
    "print(\"\\n--- Land Allocation (Acres) ---\")\n",
    "print(f\"Wheat: {wheat_acres.varValue:.2f}\")\n",
    "print(f\"Corn : {corn_acres.varValue:.2f}\")\n",
    "print(f\"Beets: {beet_acres.varValue:.2f}\")\n",
    "\n",
    "# Display sales and purchases\n",
    "print(\"\\n--- Crop Sales (Tons) ---\")\n",
    "print(f\"Wheat sold         : {wheat_sold.varValue:.2f}\")\n",
    "print(f\"Corn sold          : {corn_sold.varValue:.2f}\")\n",
    "print(f\"Beets sold at £36  : {beets_sold_36.varValue:.2f}\")\n",
    "print(f\"Beets sold at £10  : {beets_sold_10.varValue:.2f}\")\n",
    "\n",
    "print(\"\\n--- Feed Purchased (Tons) ---\")\n",
    "print(f\"Wheat purchased    : {wheat_purchased.varValue:.2f}\")\n",
    "print(f\"Corn purchased     : {corn_purchased.varValue:.2f}\")\n",
    "\n",
    "# Total Profit\n",
    "print(f\"\\n>>> Total Profit: £{value(model.objective):,.2f}\")"
   ]
  },
  {
   "cell_type": "markdown",
   "id": "bf34ee8e-1b3a-4419-a947-32d5083d6027",
   "metadata": {},
   "source": [
    "# Visualizations\n",
    "\n",
    "# Prerequisite: Collect Results for Plotting"
   ]
  },
  {
   "cell_type": "code",
   "execution_count": 17,
   "id": "85fb36c5-e6c4-414e-b545-9a45118a06f0",
   "metadata": {},
   "outputs": [],
   "source": [
    "# Collect all values from the solved model for plotting\n",
    "land_data = {\n",
    "    \"Wheat\": wheat_acres.varValue,\n",
    "    \"Corn\": corn_acres.varValue,\n",
    "    \"Beets\": beet_acres.varValue\n",
    "}\n",
    "\n",
    "sales_data = {\n",
    "    \"Wheat Sold\": wheat_sold.varValue,\n",
    "    \"Corn Sold\": corn_sold.varValue,\n",
    "    \"Beets Sold (£36)\": beets_sold_36.varValue,\n",
    "    \"Beets Sold (£10)\": beets_sold_10.varValue\n",
    "}\n",
    "\n",
    "purchase_data = {\n",
    "    \"Wheat Purchased\": wheat_purchased.varValue,\n",
    "    \"Corn Purchased\": corn_purchased.varValue\n",
    "}"
   ]
  },
  {
   "cell_type": "markdown",
   "id": "f03cae08-3ea4-4d05-adab-33010fc6b47b",
   "metadata": {},
   "source": [
    "# 1. Bar Plot – Land Allocation (Acres)"
   ]
  },
  {
   "cell_type": "code",
   "execution_count": 18,
   "id": "c61db831-42f0-4fed-8bcd-d92bd532ca99",
   "metadata": {},
   "outputs": [
    {
     "data": {
      "image/png": "[encoded data removed]",
      "text/plain": [
       "<Figure size 432x288 with 1 Axes>"
      ]
     },
     "metadata": {
      "needs_background": "light"
     },
     "output_type": "display_data"
    }
   ],
   "source": [
    "plt.figure(figsize=(6, 4))\n",
    "plt.bar(land_data.keys(), land_data.values(), color=[\"gold\", \"skyblue\", \"limegreen\"])\n",
    "plt.title(\"Land Allocation by Crop\")\n",
    "plt.ylabel(\"Acres\")\n",
    "plt.grid(axis='y')\n",
    "plt.tight_layout()\n",
    "plt.show()"
   ]
  },
  {
   "cell_type": "markdown",
   "id": "1fa17963-8a5c-406c-8d9f-879e58eee5af",
   "metadata": {},
   "source": [
    "# 2. Bar Plot – Crop Sales (Tons)"
   ]
  },
  {
   "cell_type": "code",
   "execution_count": 19,
   "id": "3bbac513-63d2-4dbf-93bf-fcdee11103e2",
   "metadata": {},
   "outputs": [
    {
     "data": {
      "image/png": "[encoded data removed]",
      "text/plain": [
       "<Figure size 504x288 with 1 Axes>"
      ]
     },
     "metadata": {
      "needs_background": "light"
     },
     "output_type": "display_data"
    }
   ],
   "source": [
    "plt.figure(figsize=(7, 4))\n",
    "plt.bar(sales_data.keys(), sales_data.values(), color=[\"orange\", \"cyan\", \"green\", \"darkgreen\"])\n",
    "plt.title(\"Crop Sales Distribution\")\n",
    "plt.ylabel(\"Tons\")\n",
    "plt.xticks(rotation=15)\n",
    "plt.grid(axis='y')\n",
    "plt.tight_layout()\n",
    "plt.show()"
   ]
  },
  {
   "cell_type": "markdown",
   "id": "c5fca87d-dbc1-4be1-bdbb-a61e8f6439ff",
   "metadata": {},
   "source": [
    "# 3. Pie Chart – Land Use Percentage"
   ]
  },
  {
   "cell_type": "code",
   "execution_count": 20,
   "id": "bc7c5285-42a6-4fc2-9792-a119f05b4ce3",
   "metadata": {},
   "outputs": [
    {
     "data": {
      "image/png": "[encoded data removed]",
      "text/plain": [
       "<Figure size 360x360 with 1 Axes>"
      ]
     },
     "metadata": {},
     "output_type": "display_data"
    }
   ],
   "source": [
    "plt.figure(figsize=(5, 5))\n",
    "plt.pie(land_data.values(), labels=land_data.keys(), autopct='%1.1f%%', startangle=90, colors=[\"gold\", \"skyblue\", \"limegreen\"])\n",
    "plt.title(\"Land Use Distribution (%)\")\n",
    "plt.tight_layout()\n",
    "plt.show()"
   ]
  },
  {
   "cell_type": "markdown",
   "id": "a75c3346-8196-480f-bfd0-4519c0f20c2b",
   "metadata": {},
   "source": [
    " # 4. Pie Chart – Revenue Share by Crop"
   ]
  },
  {
   "cell_type": "code",
   "execution_count": 21,
   "id": "6892a2b3-021a-4cee-8d39-f5123c7d8767",
   "metadata": {},
   "outputs": [
    {
     "data": {
      "image/png": "[encoded data removed]",
      "text/plain": [
       "<Figure size 432x432 with 1 Axes>"
      ]
     },
     "metadata": {},
     "output_type": "display_data"
    }
   ],
   "source": [
    "revenue_data = {\n",
    "    \"Wheat\": 170 * wheat_sold.varValue,\n",
    "    \"Corn\": 150 * corn_sold.varValue,\n",
    "    \"Beets @36\": 36 * beets_sold_36.varValue,\n",
    "    \"Beets @10\": 10 * beets_sold_10.varValue\n",
    "}\n",
    "\n",
    "plt.figure(figsize=(6, 6))\n",
    "plt.pie(revenue_data.values(), labels=revenue_data.keys(), autopct='%1.1f%%', startangle=140)\n",
    "plt.title(\"Revenue Contribution by Crop Type\")\n",
    "plt.tight_layout()\n",
    "plt.show()"
   ]
  },
  {
   "cell_type": "markdown",
   "id": "8c68570c-79fb-4b76-84f7-df1c941e972f",
   "metadata": {},
   "source": [
    "# 5. Combined Plot – Profit Breakdown"
   ]
  },
  {
   "cell_type": "code",
   "execution_count": 23,
   "id": "e1f05956-6485-458a-bde2-a146e5225405",
   "metadata": {},
   "outputs": [
    {
     "data": {
      "image/png": "[encoded data removed]",
      "text/plain": [
       "<Figure size 576x360 with 1 Axes>"
      ]
     },
     "metadata": {
      "needs_background": "light"
     },
     "output_type": "display_data"
    }
   ],
   "source": [
    "import numpy as np\n",
    "\n",
    "categories = [\"Revenue\", \"Planting Cost\", \"Purchase Cost\", \"Profit\"]\n",
    "revenue_total = sum(revenue_data.values())\n",
    "planting_total = (\n",
    "    150 * wheat_acres.varValue +\n",
    "    230 * corn_acres.varValue +\n",
    "    260 * beet_acres.varValue\n",
    ")\n",
    "purchase_total = (\n",
    "    238 * wheat_purchased.varValue +\n",
    "    210 * corn_purchased.varValue\n",
    ")\n",
    "profit = revenue_total - planting_total - purchase_total\n",
    "\n",
    "values = [revenue_total, planting_total, purchase_total, profit]\n",
    "\n",
    "plt.figure(figsize=(8, 5))\n",
    "bars = plt.bar(categories, values, color=[\"green\", \"gray\", \"tomato\", \"blue\"])\n",
    "plt.title(\"Profit Breakdown\")\n",
    "plt.ylabel(\"£ Amount\")\n",
    "plt.grid(axis='y')\n",
    "plt.tight_layout()\n",
    "plt.show()"
   ]
  }
 ],
 "metadata": {
  "kernelspec": {
   "display_name": "Python 3",
   "language": "python",
   "name": "python3"
  },
  "language_info": {
   "codemirror_mode": {
    "name": "ipython",
    "version": 3
   },
   "file_extension": ".py",
   "mimetype": "text/x-python",
   "name": "python",
   "nbconvert_exporter": "python",
   "pygments_lexer": "ipython3",
   "version": "3.8.8"
  }
 },
 "nbformat": 4,
 "nbformat_minor": 5
}
